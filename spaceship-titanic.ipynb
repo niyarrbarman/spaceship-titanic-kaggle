{
 "cells": [
  {
   "cell_type": "code",
   "execution_count": 1,
   "id": "13f3e269",
   "metadata": {
    "_cell_guid": "b1076dfc-b9ad-4769-8c92-a6c4dae69d19",
    "_uuid": "8f2839f25d086af736a60e9eeb907d3b93b6e0e5",
    "execution": {
     "iopub.execute_input": "2022-12-23T18:18:22.292406Z",
     "iopub.status.busy": "2022-12-23T18:18:22.291901Z",
     "iopub.status.idle": "2022-12-23T18:18:30.379134Z",
     "shell.execute_reply": "2022-12-23T18:18:30.377593Z"
    },
    "papermill": {
     "duration": 8.100328,
     "end_time": "2022-12-23T18:18:30.382343",
     "exception": false,
     "start_time": "2022-12-23T18:18:22.282015",
     "status": "completed"
    },
    "tags": []
   },
   "outputs": [],
   "source": [
    "import pandas as pd\n",
    "import numpy as np\n",
    "import seaborn as sns\n",
    "import matplotlib.pyplot as plt\n",
    "from sklearn import preprocessing\n",
    "import warnings\n",
    "from sklearn.model_selection import train_test_split\n",
    "from sklearn import tree\n",
    "from sklearn.metrics import accuracy_score\n",
    "from sklearn.ensemble import RandomForestClassifier\n",
    "import tensorflow as tf\n",
    "from tensorflow.keras.models import Sequential\n",
    "from tensorflow.keras.layers import Dense \n",
    "%matplotlib inline"
   ]
  },
  {
   "cell_type": "code",
   "execution_count": 2,
   "id": "62bcb93e",
   "metadata": {
    "execution": {
     "iopub.execute_input": "2022-12-23T18:18:30.399248Z",
     "iopub.status.busy": "2022-12-23T18:18:30.397404Z",
     "iopub.status.idle": "2022-12-23T18:18:30.487112Z",
     "shell.execute_reply": "2022-12-23T18:18:30.485885Z"
    },
    "papermill": {
     "duration": 0.101116,
     "end_time": "2022-12-23T18:18:30.490405",
     "exception": false,
     "start_time": "2022-12-23T18:18:30.389289",
     "status": "completed"
    },
    "tags": []
   },
   "outputs": [],
   "source": [
    "raw_df_train = pd.read_csv(\"/kaggle/input/spaceship-titanic/train.csv\")\n",
    "raw_df_test = pd.read_csv(\"/kaggle/input/spaceship-titanic/test.csv\")"
   ]
  },
  {
   "cell_type": "code",
   "execution_count": 3,
   "id": "da7772a4",
   "metadata": {
    "execution": {
     "iopub.execute_input": "2022-12-23T18:18:30.505205Z",
     "iopub.status.busy": "2022-12-23T18:18:30.504768Z",
     "iopub.status.idle": "2022-12-23T18:18:30.536526Z",
     "shell.execute_reply": "2022-12-23T18:18:30.534939Z"
    },
    "papermill": {
     "duration": 0.043097,
     "end_time": "2022-12-23T18:18:30.539998",
     "exception": false,
     "start_time": "2022-12-23T18:18:30.496901",
     "status": "completed"
    },
    "tags": []
   },
   "outputs": [
    {
     "data": {
      "text/html": [
       "<div>\n",
       "<style scoped>\n",
       "    .dataframe tbody tr th:only-of-type {\n",
       "        vertical-align: middle;\n",
       "    }\n",
       "\n",
       "    .dataframe tbody tr th {\n",
       "        vertical-align: top;\n",
       "    }\n",
       "\n",
       "    .dataframe thead th {\n",
       "        text-align: right;\n",
       "    }\n",
       "</style>\n",
       "<table border=\"1\" class=\"dataframe\">\n",
       "  <thead>\n",
       "    <tr style=\"text-align: right;\">\n",
       "      <th></th>\n",
       "      <th>PassengerId</th>\n",
       "      <th>HomePlanet</th>\n",
       "      <th>CryoSleep</th>\n",
       "      <th>Cabin</th>\n",
       "      <th>Destination</th>\n",
       "      <th>Age</th>\n",
       "      <th>VIP</th>\n",
       "      <th>RoomService</th>\n",
       "      <th>FoodCourt</th>\n",
       "      <th>ShoppingMall</th>\n",
       "      <th>Spa</th>\n",
       "      <th>VRDeck</th>\n",
       "      <th>Name</th>\n",
       "      <th>Transported</th>\n",
       "    </tr>\n",
       "  </thead>\n",
       "  <tbody>\n",
       "    <tr>\n",
       "      <th>0</th>\n",
       "      <td>0001_01</td>\n",
       "      <td>Europa</td>\n",
       "      <td>False</td>\n",
       "      <td>B/0/P</td>\n",
       "      <td>TRAPPIST-1e</td>\n",
       "      <td>39.0</td>\n",
       "      <td>False</td>\n",
       "      <td>0.0</td>\n",
       "      <td>0.0</td>\n",
       "      <td>0.0</td>\n",
       "      <td>0.0</td>\n",
       "      <td>0.0</td>\n",
       "      <td>Maham Ofracculy</td>\n",
       "      <td>False</td>\n",
       "    </tr>\n",
       "    <tr>\n",
       "      <th>1</th>\n",
       "      <td>0002_01</td>\n",
       "      <td>Earth</td>\n",
       "      <td>False</td>\n",
       "      <td>F/0/S</td>\n",
       "      <td>TRAPPIST-1e</td>\n",
       "      <td>24.0</td>\n",
       "      <td>False</td>\n",
       "      <td>109.0</td>\n",
       "      <td>9.0</td>\n",
       "      <td>25.0</td>\n",
       "      <td>549.0</td>\n",
       "      <td>44.0</td>\n",
       "      <td>Juanna Vines</td>\n",
       "      <td>True</td>\n",
       "    </tr>\n",
       "    <tr>\n",
       "      <th>2</th>\n",
       "      <td>0003_01</td>\n",
       "      <td>Europa</td>\n",
       "      <td>False</td>\n",
       "      <td>A/0/S</td>\n",
       "      <td>TRAPPIST-1e</td>\n",
       "      <td>58.0</td>\n",
       "      <td>True</td>\n",
       "      <td>43.0</td>\n",
       "      <td>3576.0</td>\n",
       "      <td>0.0</td>\n",
       "      <td>6715.0</td>\n",
       "      <td>49.0</td>\n",
       "      <td>Altark Susent</td>\n",
       "      <td>False</td>\n",
       "    </tr>\n",
       "    <tr>\n",
       "      <th>3</th>\n",
       "      <td>0003_02</td>\n",
       "      <td>Europa</td>\n",
       "      <td>False</td>\n",
       "      <td>A/0/S</td>\n",
       "      <td>TRAPPIST-1e</td>\n",
       "      <td>33.0</td>\n",
       "      <td>False</td>\n",
       "      <td>0.0</td>\n",
       "      <td>1283.0</td>\n",
       "      <td>371.0</td>\n",
       "      <td>3329.0</td>\n",
       "      <td>193.0</td>\n",
       "      <td>Solam Susent</td>\n",
       "      <td>False</td>\n",
       "    </tr>\n",
       "    <tr>\n",
       "      <th>4</th>\n",
       "      <td>0004_01</td>\n",
       "      <td>Earth</td>\n",
       "      <td>False</td>\n",
       "      <td>F/1/S</td>\n",
       "      <td>TRAPPIST-1e</td>\n",
       "      <td>16.0</td>\n",
       "      <td>False</td>\n",
       "      <td>303.0</td>\n",
       "      <td>70.0</td>\n",
       "      <td>151.0</td>\n",
       "      <td>565.0</td>\n",
       "      <td>2.0</td>\n",
       "      <td>Willy Santantines</td>\n",
       "      <td>True</td>\n",
       "    </tr>\n",
       "  </tbody>\n",
       "</table>\n",
       "</div>"
      ],
      "text/plain": [
       "  PassengerId HomePlanet CryoSleep  Cabin  Destination   Age    VIP  \\\n",
       "0     0001_01     Europa     False  B/0/P  TRAPPIST-1e  39.0  False   \n",
       "1     0002_01      Earth     False  F/0/S  TRAPPIST-1e  24.0  False   \n",
       "2     0003_01     Europa     False  A/0/S  TRAPPIST-1e  58.0   True   \n",
       "3     0003_02     Europa     False  A/0/S  TRAPPIST-1e  33.0  False   \n",
       "4     0004_01      Earth     False  F/1/S  TRAPPIST-1e  16.0  False   \n",
       "\n",
       "   RoomService  FoodCourt  ShoppingMall     Spa  VRDeck               Name  \\\n",
       "0          0.0        0.0           0.0     0.0     0.0    Maham Ofracculy   \n",
       "1        109.0        9.0          25.0   549.0    44.0       Juanna Vines   \n",
       "2         43.0     3576.0           0.0  6715.0    49.0      Altark Susent   \n",
       "3          0.0     1283.0         371.0  3329.0   193.0       Solam Susent   \n",
       "4        303.0       70.0         151.0   565.0     2.0  Willy Santantines   \n",
       "\n",
       "   Transported  \n",
       "0        False  \n",
       "1         True  \n",
       "2        False  \n",
       "3        False  \n",
       "4         True  "
      ]
     },
     "execution_count": 3,
     "metadata": {},
     "output_type": "execute_result"
    }
   ],
   "source": [
    "raw_df_train.head()"
   ]
  },
  {
   "cell_type": "code",
   "execution_count": 4,
   "id": "e51fe1df",
   "metadata": {
    "execution": {
     "iopub.execute_input": "2022-12-23T18:18:30.555994Z",
     "iopub.status.busy": "2022-12-23T18:18:30.555263Z",
     "iopub.status.idle": "2022-12-23T18:18:30.586608Z",
     "shell.execute_reply": "2022-12-23T18:18:30.585361Z"
    },
    "papermill": {
     "duration": 0.043044,
     "end_time": "2022-12-23T18:18:30.589983",
     "exception": false,
     "start_time": "2022-12-23T18:18:30.546939",
     "status": "completed"
    },
    "tags": []
   },
   "outputs": [
    {
     "name": "stdout",
     "output_type": "stream",
     "text": [
      "<class 'pandas.core.frame.DataFrame'>\n",
      "RangeIndex: 8693 entries, 0 to 8692\n",
      "Data columns (total 14 columns):\n",
      " #   Column        Non-Null Count  Dtype  \n",
      "---  ------        --------------  -----  \n",
      " 0   PassengerId   8693 non-null   object \n",
      " 1   HomePlanet    8492 non-null   object \n",
      " 2   CryoSleep     8476 non-null   object \n",
      " 3   Cabin         8494 non-null   object \n",
      " 4   Destination   8511 non-null   object \n",
      " 5   Age           8514 non-null   float64\n",
      " 6   VIP           8490 non-null   object \n",
      " 7   RoomService   8512 non-null   float64\n",
      " 8   FoodCourt     8510 non-null   float64\n",
      " 9   ShoppingMall  8485 non-null   float64\n",
      " 10  Spa           8510 non-null   float64\n",
      " 11  VRDeck        8505 non-null   float64\n",
      " 12  Name          8493 non-null   object \n",
      " 13  Transported   8693 non-null   bool   \n",
      "dtypes: bool(1), float64(6), object(7)\n",
      "memory usage: 891.5+ KB\n"
     ]
    }
   ],
   "source": [
    "raw_df_train.info()"
   ]
  },
  {
   "cell_type": "code",
   "execution_count": 5,
   "id": "aefeabb3",
   "metadata": {
    "execution": {
     "iopub.execute_input": "2022-12-23T18:18:30.605804Z",
     "iopub.status.busy": "2022-12-23T18:18:30.605376Z",
     "iopub.status.idle": "2022-12-23T18:18:30.613812Z",
     "shell.execute_reply": "2022-12-23T18:18:30.612147Z"
    },
    "papermill": {
     "duration": 0.019348,
     "end_time": "2022-12-23T18:18:30.616366",
     "exception": false,
     "start_time": "2022-12-23T18:18:30.597018",
     "status": "completed"
    },
    "tags": []
   },
   "outputs": [
    {
     "name": "stdout",
     "output_type": "stream",
     "text": [
      "['Europa' 'Earth' 'Mars' nan]\n",
      "[False True nan]\n",
      "['TRAPPIST-1e' 'PSO J318.5-22' '55 Cancri e' nan]\n"
     ]
    }
   ],
   "source": [
    "print(raw_df_train.HomePlanet.unique())\n",
    "print(raw_df_train.CryoSleep.unique())\n",
    "print(raw_df_train.Destination.unique())"
   ]
  },
  {
   "cell_type": "code",
   "execution_count": 6,
   "id": "cd653395",
   "metadata": {
    "execution": {
     "iopub.execute_input": "2022-12-23T18:18:30.632366Z",
     "iopub.status.busy": "2022-12-23T18:18:30.631920Z",
     "iopub.status.idle": "2022-12-23T18:18:32.080698Z",
     "shell.execute_reply": "2022-12-23T18:18:32.079408Z"
    },
    "papermill": {
     "duration": 1.460102,
     "end_time": "2022-12-23T18:18:32.083450",
     "exception": false,
     "start_time": "2022-12-23T18:18:30.623348",
     "status": "completed"
    },
    "tags": []
   },
   "outputs": [
    {
     "data": {
      "image/png": "[encoded data removed]",
      "text/plain": [
       "<Figure size 720x720 with 6 Axes>"
      ]
     },
     "metadata": {
      "needs_background": "light"
     },
     "output_type": "display_data"
    }
   ],
   "source": [
    "warnings.filterwarnings(\"ignore\")\n",
    "fig, axs = plt.subplots(6,figsize = (10,10))\n",
    "sns.distplot(raw_df_train[\"Age\"],ax = axs[0])\n",
    "sns.distplot(raw_df_train[\"RoomService\"],ax = axs[1])\n",
    "sns.distplot(raw_df_train[\"FoodCourt\"], ax = axs[2])\n",
    "sns.distplot(raw_df_train[\"ShoppingMall\"], ax = axs[3])\n",
    "sns.distplot(raw_df_train[\"Spa\"],ax = axs[4])\n",
    "sns.distplot(raw_df_train[\"VRDeck\"], ax = axs[5])\n",
    "plt.show()"
   ]
  },
  {
   "cell_type": "code",
   "execution_count": 7,
   "id": "96b60486",
   "metadata": {
    "execution": {
     "iopub.execute_input": "2022-12-23T18:18:32.101061Z",
     "iopub.status.busy": "2022-12-23T18:18:32.100637Z",
     "iopub.status.idle": "2022-12-23T18:18:32.116330Z",
     "shell.execute_reply": "2022-12-23T18:18:32.115078Z"
    },
    "papermill": {
     "duration": 0.027795,
     "end_time": "2022-12-23T18:18:32.119054",
     "exception": false,
     "start_time": "2022-12-23T18:18:32.091259",
     "status": "completed"
    },
    "tags": []
   },
   "outputs": [],
   "source": [
    "le = preprocessing.LabelEncoder()\n",
    "\n",
    "def clean(data):\n",
    "    \n",
    "    data[[\"Deck\", \"Num\", \"Side\"]] = data[\"Cabin\"].str.split(\"/\", expand = True)\n",
    "    data = data.drop([\"Name\", \"PassengerId\"], axis = 1)\n",
    "    \n",
    "    data[\"HomePlanet\"] = data[\"HomePlanet\"].map({\"Europa\" : 0, \"Earth\" : 1, \"Mars\" : 2})\n",
    "    data[\"HomePlanet\"].fillna(data[\"HomePlanet\"].mode()[0], inplace = True)\n",
    "    \n",
    "    data[\"CryoSleep\"] = data[\"CryoSleep\"].map({False : 0, True : 1})\n",
    "    data[\"CryoSleep\"].fillna(data[\"CryoSleep\"].mode()[0], inplace = True)\n",
    "    \n",
    "    data[\"Destination\"] = data[\"Destination\"].map({\"TRAPPIST-1e\" : 0, \"PSO J318.5-22\" : 1, \"55 Cancri e\" : 2})\n",
    "    data[\"Destination\"].fillna(data[\"Destination\"].mode()[0], inplace = True)\n",
    "    \n",
    "    data[\"Age\"].fillna(data[\"Age\"].median(), inplace = True)\n",
    "    \n",
    "    data[\"VIP\"] = data[\"VIP\"].map({False : 0, True : 1})\n",
    "    data[\"VIP\"].fillna(data[\"VIP\"].mode()[0], inplace = True)\n",
    "    \n",
    "    data[\"RoomService\"].fillna(data[\"RoomService\"].median(), inplace = True)\n",
    "    data[\"FoodCourt\"].fillna(data[\"FoodCourt\"].median(), inplace = True)\n",
    "    data[\"ShoppingMall\"].fillna(data[\"ShoppingMall\"].median(), inplace = True)\n",
    "    data[\"Spa\"].fillna(data[\"Spa\"].median(), inplace = True)\n",
    "    data[\"VRDeck\"].fillna(data[\"VRDeck\"].median(), inplace = True)\n",
    "    \n",
    "    data[\"Deck\"] = data[\"Deck\"].map({\"A\" : 0, \"B\" : 1, \"C\" : 2, \"D\" : 3, \"E\" : 4, \"F\" : 5, \"G\" : 6, \"T\" : 7})\n",
    "    data[\"Deck\"].fillna(data[\"Deck\"].mode()[0], inplace = True)\n",
    "    \n",
    "    data[\"Num\"].fillna(data[\"Num\"].median(), inplace = True)\n",
    "    data[\"Num\"] = data[\"Num\"].astype(np.uint8)\n",
    "    \n",
    "    data[\"Side\"] = data[\"Side\"].map({\"P\" : 0, \"S\" : 1})\n",
    "    data[\"Side\"].fillna(data[\"Side\"].mode()[0], inplace = True)\n",
    "    \n",
    "    \n",
    "    return data"
   ]
  },
  {
   "cell_type": "code",
   "execution_count": 8,
   "id": "631f13cb",
   "metadata": {
    "execution": {
     "iopub.execute_input": "2022-12-23T18:18:32.138820Z",
     "iopub.status.busy": "2022-12-23T18:18:32.137528Z",
     "iopub.status.idle": "2022-12-23T18:18:32.221305Z",
     "shell.execute_reply": "2022-12-23T18:18:32.220026Z"
    },
    "papermill": {
     "duration": 0.09737,
     "end_time": "2022-12-23T18:18:32.224123",
     "exception": false,
     "start_time": "2022-12-23T18:18:32.126753",
     "status": "completed"
    },
    "tags": []
   },
   "outputs": [],
   "source": [
    "df_train = clean(raw_df_train)\n",
    "df_test = clean(raw_df_test)"
   ]
  },
  {
   "cell_type": "code",
   "execution_count": 9,
   "id": "0d87dad7",
   "metadata": {
    "execution": {
     "iopub.execute_input": "2022-12-23T18:18:32.241769Z",
     "iopub.status.busy": "2022-12-23T18:18:32.241327Z",
     "iopub.status.idle": "2022-12-23T18:18:32.276658Z",
     "shell.execute_reply": "2022-12-23T18:18:32.275114Z"
    },
    "papermill": {
     "duration": 0.047426,
     "end_time": "2022-12-23T18:18:32.279398",
     "exception": false,
     "start_time": "2022-12-23T18:18:32.231972",
     "status": "completed"
    },
    "tags": []
   },
   "outputs": [
    {
     "data": {
      "text/html": [
       "<div>\n",
       "<style scoped>\n",
       "    .dataframe tbody tr th:only-of-type {\n",
       "        vertical-align: middle;\n",
       "    }\n",
       "\n",
       "    .dataframe tbody tr th {\n",
       "        vertical-align: top;\n",
       "    }\n",
       "\n",
       "    .dataframe thead th {\n",
       "        text-align: right;\n",
       "    }\n",
       "</style>\n",
       "<table border=\"1\" class=\"dataframe\">\n",
       "  <thead>\n",
       "    <tr style=\"text-align: right;\">\n",
       "      <th></th>\n",
       "      <th>HomePlanet</th>\n",
       "      <th>CryoSleep</th>\n",
       "      <th>Cabin</th>\n",
       "      <th>Destination</th>\n",
       "      <th>Age</th>\n",
       "      <th>VIP</th>\n",
       "      <th>RoomService</th>\n",
       "      <th>FoodCourt</th>\n",
       "      <th>ShoppingMall</th>\n",
       "      <th>Spa</th>\n",
       "      <th>VRDeck</th>\n",
       "      <th>Transported</th>\n",
       "      <th>Deck</th>\n",
       "      <th>Num</th>\n",
       "      <th>Side</th>\n",
       "    </tr>\n",
       "  </thead>\n",
       "  <tbody>\n",
       "    <tr>\n",
       "      <th>7869</th>\n",
       "      <td>0.0</td>\n",
       "      <td>0.0</td>\n",
       "      <td>D/260/P</td>\n",
       "      <td>0.0</td>\n",
       "      <td>32.0</td>\n",
       "      <td>0.0</td>\n",
       "      <td>0.0</td>\n",
       "      <td>13.0</td>\n",
       "      <td>0.0</td>\n",
       "      <td>2148.0</td>\n",
       "      <td>319.0</td>\n",
       "      <td>False</td>\n",
       "      <td>3.0</td>\n",
       "      <td>4</td>\n",
       "      <td>0.0</td>\n",
       "    </tr>\n",
       "    <tr>\n",
       "      <th>6344</th>\n",
       "      <td>1.0</td>\n",
       "      <td>1.0</td>\n",
       "      <td>G/1092/S</td>\n",
       "      <td>0.0</td>\n",
       "      <td>22.0</td>\n",
       "      <td>0.0</td>\n",
       "      <td>0.0</td>\n",
       "      <td>0.0</td>\n",
       "      <td>0.0</td>\n",
       "      <td>0.0</td>\n",
       "      <td>0.0</td>\n",
       "      <td>True</td>\n",
       "      <td>6.0</td>\n",
       "      <td>68</td>\n",
       "      <td>1.0</td>\n",
       "    </tr>\n",
       "    <tr>\n",
       "      <th>7541</th>\n",
       "      <td>2.0</td>\n",
       "      <td>1.0</td>\n",
       "      <td>F/1541/S</td>\n",
       "      <td>0.0</td>\n",
       "      <td>37.0</td>\n",
       "      <td>0.0</td>\n",
       "      <td>0.0</td>\n",
       "      <td>0.0</td>\n",
       "      <td>0.0</td>\n",
       "      <td>0.0</td>\n",
       "      <td>0.0</td>\n",
       "      <td>True</td>\n",
       "      <td>5.0</td>\n",
       "      <td>5</td>\n",
       "      <td>1.0</td>\n",
       "    </tr>\n",
       "    <tr>\n",
       "      <th>7500</th>\n",
       "      <td>0.0</td>\n",
       "      <td>1.0</td>\n",
       "      <td>D/249/P</td>\n",
       "      <td>0.0</td>\n",
       "      <td>26.0</td>\n",
       "      <td>0.0</td>\n",
       "      <td>0.0</td>\n",
       "      <td>0.0</td>\n",
       "      <td>0.0</td>\n",
       "      <td>0.0</td>\n",
       "      <td>0.0</td>\n",
       "      <td>True</td>\n",
       "      <td>3.0</td>\n",
       "      <td>249</td>\n",
       "      <td>0.0</td>\n",
       "    </tr>\n",
       "    <tr>\n",
       "      <th>6373</th>\n",
       "      <td>1.0</td>\n",
       "      <td>0.0</td>\n",
       "      <td>F/1286/S</td>\n",
       "      <td>1.0</td>\n",
       "      <td>18.0</td>\n",
       "      <td>0.0</td>\n",
       "      <td>103.0</td>\n",
       "      <td>0.0</td>\n",
       "      <td>181.0</td>\n",
       "      <td>1611.0</td>\n",
       "      <td>22.0</td>\n",
       "      <td>False</td>\n",
       "      <td>5.0</td>\n",
       "      <td>6</td>\n",
       "      <td>1.0</td>\n",
       "    </tr>\n",
       "    <tr>\n",
       "      <th>4123</th>\n",
       "      <td>2.0</td>\n",
       "      <td>1.0</td>\n",
       "      <td>F/830/S</td>\n",
       "      <td>0.0</td>\n",
       "      <td>5.0</td>\n",
       "      <td>0.0</td>\n",
       "      <td>0.0</td>\n",
       "      <td>0.0</td>\n",
       "      <td>0.0</td>\n",
       "      <td>0.0</td>\n",
       "      <td>0.0</td>\n",
       "      <td>True</td>\n",
       "      <td>5.0</td>\n",
       "      <td>62</td>\n",
       "      <td>1.0</td>\n",
       "    </tr>\n",
       "    <tr>\n",
       "      <th>8272</th>\n",
       "      <td>1.0</td>\n",
       "      <td>1.0</td>\n",
       "      <td>G/1424/S</td>\n",
       "      <td>2.0</td>\n",
       "      <td>15.0</td>\n",
       "      <td>0.0</td>\n",
       "      <td>0.0</td>\n",
       "      <td>0.0</td>\n",
       "      <td>0.0</td>\n",
       "      <td>0.0</td>\n",
       "      <td>0.0</td>\n",
       "      <td>True</td>\n",
       "      <td>6.0</td>\n",
       "      <td>144</td>\n",
       "      <td>1.0</td>\n",
       "    </tr>\n",
       "    <tr>\n",
       "      <th>8478</th>\n",
       "      <td>1.0</td>\n",
       "      <td>0.0</td>\n",
       "      <td>F/1853/P</td>\n",
       "      <td>0.0</td>\n",
       "      <td>28.0</td>\n",
       "      <td>0.0</td>\n",
       "      <td>0.0</td>\n",
       "      <td>8.0</td>\n",
       "      <td>338.0</td>\n",
       "      <td>135.0</td>\n",
       "      <td>390.0</td>\n",
       "      <td>False</td>\n",
       "      <td>5.0</td>\n",
       "      <td>61</td>\n",
       "      <td>0.0</td>\n",
       "    </tr>\n",
       "    <tr>\n",
       "      <th>7332</th>\n",
       "      <td>1.0</td>\n",
       "      <td>0.0</td>\n",
       "      <td>G/1261/P</td>\n",
       "      <td>0.0</td>\n",
       "      <td>34.0</td>\n",
       "      <td>0.0</td>\n",
       "      <td>0.0</td>\n",
       "      <td>9.0</td>\n",
       "      <td>617.0</td>\n",
       "      <td>0.0</td>\n",
       "      <td>281.0</td>\n",
       "      <td>False</td>\n",
       "      <td>6.0</td>\n",
       "      <td>237</td>\n",
       "      <td>0.0</td>\n",
       "    </tr>\n",
       "    <tr>\n",
       "      <th>543</th>\n",
       "      <td>0.0</td>\n",
       "      <td>1.0</td>\n",
       "      <td>C/21/P</td>\n",
       "      <td>0.0</td>\n",
       "      <td>55.0</td>\n",
       "      <td>0.0</td>\n",
       "      <td>0.0</td>\n",
       "      <td>0.0</td>\n",
       "      <td>0.0</td>\n",
       "      <td>0.0</td>\n",
       "      <td>0.0</td>\n",
       "      <td>True</td>\n",
       "      <td>2.0</td>\n",
       "      <td>21</td>\n",
       "      <td>0.0</td>\n",
       "    </tr>\n",
       "  </tbody>\n",
       "</table>\n",
       "</div>"
      ],
      "text/plain": [
       "      HomePlanet  CryoSleep     Cabin  Destination   Age  VIP  RoomService  \\\n",
       "7869         0.0        0.0   D/260/P          0.0  32.0  0.0          0.0   \n",
       "6344         1.0        1.0  G/1092/S          0.0  22.0  0.0          0.0   \n",
       "7541         2.0        1.0  F/1541/S          0.0  37.0  0.0          0.0   \n",
       "7500         0.0        1.0   D/249/P          0.0  26.0  0.0          0.0   \n",
       "6373         1.0        0.0  F/1286/S          1.0  18.0  0.0        103.0   \n",
       "4123         2.0        1.0   F/830/S          0.0   5.0  0.0          0.0   \n",
       "8272         1.0        1.0  G/1424/S          2.0  15.0  0.0          0.0   \n",
       "8478         1.0        0.0  F/1853/P          0.0  28.0  0.0          0.0   \n",
       "7332         1.0        0.0  G/1261/P          0.0  34.0  0.0          0.0   \n",
       "543          0.0        1.0    C/21/P          0.0  55.0  0.0          0.0   \n",
       "\n",
       "      FoodCourt  ShoppingMall     Spa  VRDeck  Transported  Deck  Num  Side  \n",
       "7869       13.0           0.0  2148.0   319.0        False   3.0    4   0.0  \n",
       "6344        0.0           0.0     0.0     0.0         True   6.0   68   1.0  \n",
       "7541        0.0           0.0     0.0     0.0         True   5.0    5   1.0  \n",
       "7500        0.0           0.0     0.0     0.0         True   3.0  249   0.0  \n",
       "6373        0.0         181.0  1611.0    22.0        False   5.0    6   1.0  \n",
       "4123        0.0           0.0     0.0     0.0         True   5.0   62   1.0  \n",
       "8272        0.0           0.0     0.0     0.0         True   6.0  144   1.0  \n",
       "8478        8.0         338.0   135.0   390.0        False   5.0   61   0.0  \n",
       "7332        9.0         617.0     0.0   281.0        False   6.0  237   0.0  \n",
       "543         0.0           0.0     0.0     0.0         True   2.0   21   0.0  "
      ]
     },
     "execution_count": 9,
     "metadata": {},
     "output_type": "execute_result"
    }
   ],
   "source": [
    "df_train.sample(10)"
   ]
  },
  {
   "cell_type": "code",
   "execution_count": 10,
   "id": "aa3d262c",
   "metadata": {
    "execution": {
     "iopub.execute_input": "2022-12-23T18:18:32.297914Z",
     "iopub.status.busy": "2022-12-23T18:18:32.297422Z",
     "iopub.status.idle": "2022-12-23T18:18:32.310256Z",
     "shell.execute_reply": "2022-12-23T18:18:32.309254Z"
    },
    "papermill": {
     "duration": 0.024926,
     "end_time": "2022-12-23T18:18:32.312716",
     "exception": false,
     "start_time": "2022-12-23T18:18:32.287790",
     "status": "completed"
    },
    "tags": []
   },
   "outputs": [],
   "source": [
    "Y = df_train[\"Transported\"].map({False : 0, True : 1})\n",
    "X = df_train.drop([\"Transported\", \"Cabin\"], axis = 1)\n",
    "\n",
    "X_train, X_val, y_train, y_val = train_test_split(X, Y, random_state = 42, test_size = 0.1)"
   ]
  },
  {
   "cell_type": "markdown",
   "id": "3f120816",
   "metadata": {
    "papermill": {
     "duration": 0.007735,
     "end_time": "2022-12-23T18:18:32.328579",
     "exception": false,
     "start_time": "2022-12-23T18:18:32.320844",
     "status": "completed"
    },
    "tags": []
   },
   "source": [
    "## Decision Tree Classifier"
   ]
  },
  {
   "cell_type": "code",
   "execution_count": 11,
   "id": "8801193d",
   "metadata": {
    "execution": {
     "iopub.execute_input": "2022-12-23T18:18:32.346919Z",
     "iopub.status.busy": "2022-12-23T18:18:32.346210Z",
     "iopub.status.idle": "2022-12-23T18:18:32.352815Z",
     "shell.execute_reply": "2022-12-23T18:18:32.351924Z"
    },
    "papermill": {
     "duration": 0.018544,
     "end_time": "2022-12-23T18:18:32.355259",
     "exception": false,
     "start_time": "2022-12-23T18:18:32.336715",
     "status": "completed"
    },
    "tags": []
   },
   "outputs": [],
   "source": [
    "df_test = df_test.drop([\"Cabin\"], axis = 1)"
   ]
  },
  {
   "cell_type": "code",
   "execution_count": 12,
   "id": "5b1d2db4",
   "metadata": {
    "execution": {
     "iopub.execute_input": "2022-12-23T18:18:32.373616Z",
     "iopub.status.busy": "2022-12-23T18:18:32.372945Z",
     "iopub.status.idle": "2022-12-23T18:18:32.431852Z",
     "shell.execute_reply": "2022-12-23T18:18:32.430412Z"
    },
    "papermill": {
     "duration": 0.071299,
     "end_time": "2022-12-23T18:18:32.434658",
     "exception": false,
     "start_time": "2022-12-23T18:18:32.363359",
     "status": "completed"
    },
    "tags": []
   },
   "outputs": [
    {
     "name": "stdout",
     "output_type": "stream",
     "text": [
      "Accuracy Score is 73.5632183908046%\n"
     ]
    }
   ],
   "source": [
    "model_tree = tree.DecisionTreeClassifier().fit(X_train, y_train)\n",
    "preds_tree = model_tree.predict(X_val)\n",
    "acc = accuracy_score(y_val, preds_tree)\n",
    "sub_tree = model_tree.predict(df_test)\n",
    "print(f\"Accuracy Score is {acc*100}%\")"
   ]
  },
  {
   "cell_type": "markdown",
   "id": "09142d15",
   "metadata": {
    "papermill": {
     "duration": 0.007789,
     "end_time": "2022-12-23T18:18:32.450756",
     "exception": false,
     "start_time": "2022-12-23T18:18:32.442967",
     "status": "completed"
    },
    "tags": []
   },
   "source": [
    "## Random Forest Classifier"
   ]
  },
  {
   "cell_type": "code",
   "execution_count": 13,
   "id": "22973d35",
   "metadata": {
    "execution": {
     "iopub.execute_input": "2022-12-23T18:18:32.468793Z",
     "iopub.status.busy": "2022-12-23T18:18:32.468367Z",
     "iopub.status.idle": "2022-12-23T18:18:38.495450Z",
     "shell.execute_reply": "2022-12-23T18:18:38.493999Z"
    },
    "papermill": {
     "duration": 6.039874,
     "end_time": "2022-12-23T18:18:38.498781",
     "exception": false,
     "start_time": "2022-12-23T18:18:32.458907",
     "status": "completed"
    },
    "tags": []
   },
   "outputs": [
    {
     "name": "stdout",
     "output_type": "stream",
     "text": [
      "Accuracy Score is 78.73563218390804%\n"
     ]
    }
   ],
   "source": [
    "model_rf = RandomForestClassifier(n_estimators=500, random_state=42).fit(X_train, y_train)\n",
    "preds_rf = model_rf.predict(X_val)\n",
    "acc_rf = accuracy_score(y_val, preds_rf)\n",
    "sub_rf = model_rf.predict(df_test)\n",
    "print(f\"Accuracy Score is {acc_rf*100}%\")"
   ]
  },
  {
   "cell_type": "markdown",
   "id": "651bb04a",
   "metadata": {
    "papermill": {
     "duration": 0.007798,
     "end_time": "2022-12-23T18:18:38.515329",
     "exception": false,
     "start_time": "2022-12-23T18:18:38.507531",
     "status": "completed"
    },
    "tags": []
   },
   "source": [
    "## Neural Network"
   ]
  },
  {
   "cell_type": "code",
   "execution_count": 14,
   "id": "d1a1d9bd",
   "metadata": {
    "execution": {
     "iopub.execute_input": "2022-12-23T18:18:38.534171Z",
     "iopub.status.busy": "2022-12-23T18:18:38.533444Z",
     "iopub.status.idle": "2022-12-23T18:18:39.775791Z",
     "shell.execute_reply": "2022-12-23T18:18:39.774242Z"
    },
    "papermill": {
     "duration": 1.254784,
     "end_time": "2022-12-23T18:18:39.778735",
     "exception": false,
     "start_time": "2022-12-23T18:18:38.523951",
     "status": "completed"
    },
    "tags": []
   },
   "outputs": [],
   "source": [
    "x_train = X_train/X_train.max()\n",
    "x_val = X_val/X_val.max()\n",
    "\n",
    "train_x = []\n",
    "train_y = []\n",
    "\n",
    "val_x = []\n",
    "val_y = []\n",
    "\n",
    "for i in range(len(x_train)):\n",
    "    temp = x_train.iloc[i]\n",
    "    train_x.append(temp)\n",
    "    \n",
    "for i in range(len(x_val)):\n",
    "    temp = x_val.iloc[i]\n",
    "    val_x.append(temp)\n",
    "    \n",
    "train_x = np.array(train_x)\n",
    "train_y = np.array(y_train)\n",
    "val_x = np.array(val_x)\n",
    "val_y = np.array(y_val)"
   ]
  },
  {
   "cell_type": "code",
   "execution_count": 15,
   "id": "119ecacb",
   "metadata": {
    "execution": {
     "iopub.execute_input": "2022-12-23T18:18:39.797291Z",
     "iopub.status.busy": "2022-12-23T18:18:39.796833Z",
     "iopub.status.idle": "2022-12-23T18:18:39.948751Z",
     "shell.execute_reply": "2022-12-23T18:18:39.947483Z"
    },
    "papermill": {
     "duration": 0.164258,
     "end_time": "2022-12-23T18:18:39.951458",
     "exception": false,
     "start_time": "2022-12-23T18:18:39.787200",
     "status": "completed"
    },
    "tags": []
   },
   "outputs": [
    {
     "name": "stderr",
     "output_type": "stream",
     "text": [
      "2022-12-23 18:18:39.834655: I tensorflow/core/common_runtime/process_util.cc:146] Creating new thread pool with default inter op setting: 2. Tune using inter_op_parallelism_threads for best performance.\n"
     ]
    }
   ],
   "source": [
    "INPUT_SHAPE = train_x[0].shape\n",
    "model = Sequential()\n",
    "\n",
    "model.add(Dense(units = 128, activation=\"relu\", input_shape = INPUT_SHAPE))\n",
    "model.add(Dense(units = 256, activation=\"relu\"))\n",
    "model.add(Dense(units = 512, activation=\"relu\"))\n",
    "model.add(Dense(units = 256, activation=\"relu\"))\n",
    "model.add(Dense(units = 128, activation=\"relu\"))\n",
    "\n",
    "model.add(Dense(units = 1, activation=\"sigmoid\"))"
   ]
  },
  {
   "cell_type": "code",
   "execution_count": 16,
   "id": "49eb0f33",
   "metadata": {
    "execution": {
     "iopub.execute_input": "2022-12-23T18:18:39.969886Z",
     "iopub.status.busy": "2022-12-23T18:18:39.969460Z",
     "iopub.status.idle": "2022-12-23T18:18:39.976558Z",
     "shell.execute_reply": "2022-12-23T18:18:39.975255Z"
    },
    "papermill": {
     "duration": 0.020407,
     "end_time": "2022-12-23T18:18:39.980262",
     "exception": false,
     "start_time": "2022-12-23T18:18:39.959855",
     "status": "completed"
    },
    "tags": []
   },
   "outputs": [
    {
     "name": "stdout",
     "output_type": "stream",
     "text": [
      "Model: \"sequential\"\n",
      "_________________________________________________________________\n",
      "Layer (type)                 Output Shape              Param #   \n",
      "=================================================================\n",
      "dense (Dense)                (None, 128)               1792      \n",
      "_________________________________________________________________\n",
      "dense_1 (Dense)              (None, 256)               33024     \n",
      "_________________________________________________________________\n",
      "dense_2 (Dense)              (None, 512)               131584    \n",
      "_________________________________________________________________\n",
      "dense_3 (Dense)              (None, 256)               131328    \n",
      "_________________________________________________________________\n",
      "dense_4 (Dense)              (None, 128)               32896     \n",
      "_________________________________________________________________\n",
      "dense_5 (Dense)              (None, 1)                 129       \n",
      "=================================================================\n",
      "Total params: 330,753\n",
      "Trainable params: 330,753\n",
      "Non-trainable params: 0\n",
      "_________________________________________________________________\n"
     ]
    }
   ],
   "source": [
    "model.summary()"
   ]
  },
  {
   "cell_type": "code",
   "execution_count": 17,
   "id": "e0cb2baf",
   "metadata": {
    "execution": {
     "iopub.execute_input": "2022-12-23T18:18:40.000410Z",
     "iopub.status.busy": "2022-12-23T18:18:39.999748Z",
     "iopub.status.idle": "2022-12-23T18:18:40.015206Z",
     "shell.execute_reply": "2022-12-23T18:18:40.013876Z"
    },
    "papermill": {
     "duration": 0.028439,
     "end_time": "2022-12-23T18:18:40.018222",
     "exception": false,
     "start_time": "2022-12-23T18:18:39.989783",
     "status": "completed"
    },
    "tags": []
   },
   "outputs": [],
   "source": [
    "model.compile(optimizer=tf.keras.optimizers.Adam(learning_rate=1e-4),\n",
    "             loss = \"binary_crossentropy\",\n",
    "             metrics = [\"accuracy\"])"
   ]
  },
  {
   "cell_type": "code",
   "execution_count": 18,
   "id": "5d0150bc",
   "metadata": {
    "execution": {
     "iopub.execute_input": "2022-12-23T18:18:40.038096Z",
     "iopub.status.busy": "2022-12-23T18:18:40.037643Z",
     "iopub.status.idle": "2022-12-23T18:18:40.042460Z",
     "shell.execute_reply": "2022-12-23T18:18:40.041088Z"
    },
    "papermill": {
     "duration": 0.017805,
     "end_time": "2022-12-23T18:18:40.044995",
     "exception": false,
     "start_time": "2022-12-23T18:18:40.027190",
     "status": "completed"
    },
    "tags": []
   },
   "outputs": [],
   "source": [
    "# h = model.fit(train_x, train_y, \n",
    "#               epochs = 100,\n",
    "#               validation_data=(val_x, val_y))"
   ]
  },
  {
   "cell_type": "code",
   "execution_count": 19,
   "id": "13f16321",
   "metadata": {
    "execution": {
     "iopub.execute_input": "2022-12-23T18:18:40.064316Z",
     "iopub.status.busy": "2022-12-23T18:18:40.063684Z",
     "iopub.status.idle": "2022-12-23T18:18:40.068114Z",
     "shell.execute_reply": "2022-12-23T18:18:40.067183Z"
    },
    "papermill": {
     "duration": 0.016623,
     "end_time": "2022-12-23T18:18:40.070386",
     "exception": false,
     "start_time": "2022-12-23T18:18:40.053763",
     "status": "completed"
    },
    "tags": []
   },
   "outputs": [],
   "source": [
    "# x_test = df_test/df_test.max()\n",
    "# x_test = x_test.drop([\"Cabin\"], axis = 1)\n",
    "# x_test = x_test.iloc[:,[5, 1, 3, 0, 11, 7, 4, 8, 10, 12, 2, 6, 9]]\n",
    "# test_x = []\n",
    "\n",
    "# for i in range(len(x_test)):\n",
    "#     temp = x_test.iloc[i]\n",
    "#     test_x.append(temp)\n",
    "\n",
    "# test_x = np.asarray(test_x).astype(np.float32)\n",
    "\n",
    "# pred_nn = model.predict(test_x)\n",
    "# pred_nn = pred_nn.flatten()\n",
    "# submit = pd.DataFrame({\n",
    "#     \"PassengerId\" : raw_df_test[\"PassengerId\"],\n",
    "#     \"Transported\" : pred_nn\n",
    "# })\n",
    "\n",
    "# submit[\"Transported\"] = submit[\"Transported\"].apply(lambda x: 1 if x>0.5 else 0)\n",
    "# submit.to_csv(\"submission.csv\", index = False)"
   ]
  },
  {
   "cell_type": "code",
   "execution_count": 20,
   "id": "da3fd2a2",
   "metadata": {
    "execution": {
     "iopub.execute_input": "2022-12-23T18:18:40.089394Z",
     "iopub.status.busy": "2022-12-23T18:18:40.088763Z",
     "iopub.status.idle": "2022-12-23T18:18:40.097129Z",
     "shell.execute_reply": "2022-12-23T18:18:40.095917Z"
    },
    "papermill": {
     "duration": 0.021202,
     "end_time": "2022-12-23T18:18:40.100049",
     "exception": false,
     "start_time": "2022-12-23T18:18:40.078847",
     "status": "completed"
    },
    "tags": []
   },
   "outputs": [],
   "source": [
    "submit = pd.DataFrame({\n",
    "    \"PassengerId\" : raw_df_test[\"PassengerId\"],\n",
    "    \"Transported\" : sub_rf\n",
    "})\n",
    "\n",
    "submit[\"Transported\"] = submit[\"Transported\"].apply(lambda x: True if x==1 else False)"
   ]
  },
  {
   "cell_type": "code",
   "execution_count": 21,
   "id": "9e9a7c61",
   "metadata": {
    "execution": {
     "iopub.execute_input": "2022-12-23T18:18:40.119209Z",
     "iopub.status.busy": "2022-12-23T18:18:40.118375Z",
     "iopub.status.idle": "2022-12-23T18:18:40.132001Z",
     "shell.execute_reply": "2022-12-23T18:18:40.130705Z"
    },
    "papermill": {
     "duration": 0.026055,
     "end_time": "2022-12-23T18:18:40.134803",
     "exception": false,
     "start_time": "2022-12-23T18:18:40.108748",
     "status": "completed"
    },
    "tags": []
   },
   "outputs": [
    {
     "data": {
      "text/html": [
       "<div>\n",
       "<style scoped>\n",
       "    .dataframe tbody tr th:only-of-type {\n",
       "        vertical-align: middle;\n",
       "    }\n",
       "\n",
       "    .dataframe tbody tr th {\n",
       "        vertical-align: top;\n",
       "    }\n",
       "\n",
       "    .dataframe thead th {\n",
       "        text-align: right;\n",
       "    }\n",
       "</style>\n",
       "<table border=\"1\" class=\"dataframe\">\n",
       "  <thead>\n",
       "    <tr style=\"text-align: right;\">\n",
       "      <th></th>\n",
       "      <th>PassengerId</th>\n",
       "      <th>Transported</th>\n",
       "    </tr>\n",
       "  </thead>\n",
       "  <tbody>\n",
       "    <tr>\n",
       "      <th>0</th>\n",
       "      <td>0013_01</td>\n",
       "      <td>True</td>\n",
       "    </tr>\n",
       "    <tr>\n",
       "      <th>1</th>\n",
       "      <td>0018_01</td>\n",
       "      <td>False</td>\n",
       "    </tr>\n",
       "    <tr>\n",
       "      <th>2</th>\n",
       "      <td>0019_01</td>\n",
       "      <td>True</td>\n",
       "    </tr>\n",
       "    <tr>\n",
       "      <th>3</th>\n",
       "      <td>0021_01</td>\n",
       "      <td>True</td>\n",
       "    </tr>\n",
       "    <tr>\n",
       "      <th>4</th>\n",
       "      <td>0023_01</td>\n",
       "      <td>True</td>\n",
       "    </tr>\n",
       "    <tr>\n",
       "      <th>...</th>\n",
       "      <td>...</td>\n",
       "      <td>...</td>\n",
       "    </tr>\n",
       "    <tr>\n",
       "      <th>4272</th>\n",
       "      <td>9266_02</td>\n",
       "      <td>True</td>\n",
       "    </tr>\n",
       "    <tr>\n",
       "      <th>4273</th>\n",
       "      <td>9269_01</td>\n",
       "      <td>False</td>\n",
       "    </tr>\n",
       "    <tr>\n",
       "      <th>4274</th>\n",
       "      <td>9271_01</td>\n",
       "      <td>True</td>\n",
       "    </tr>\n",
       "    <tr>\n",
       "      <th>4275</th>\n",
       "      <td>9273_01</td>\n",
       "      <td>True</td>\n",
       "    </tr>\n",
       "    <tr>\n",
       "      <th>4276</th>\n",
       "      <td>9277_01</td>\n",
       "      <td>False</td>\n",
       "    </tr>\n",
       "  </tbody>\n",
       "</table>\n",
       "<p>4277 rows × 2 columns</p>\n",
       "</div>"
      ],
      "text/plain": [
       "     PassengerId  Transported\n",
       "0        0013_01         True\n",
       "1        0018_01        False\n",
       "2        0019_01         True\n",
       "3        0021_01         True\n",
       "4        0023_01         True\n",
       "...          ...          ...\n",
       "4272     9266_02         True\n",
       "4273     9269_01        False\n",
       "4274     9271_01         True\n",
       "4275     9273_01         True\n",
       "4276     9277_01        False\n",
       "\n",
       "[4277 rows x 2 columns]"
      ]
     },
     "execution_count": 21,
     "metadata": {},
     "output_type": "execute_result"
    }
   ],
   "source": [
    "submit"
   ]
  },
  {
   "cell_type": "code",
   "execution_count": 22,
   "id": "dfbcbae5",
   "metadata": {
    "execution": {
     "iopub.execute_input": "2022-12-23T18:18:40.155558Z",
     "iopub.status.busy": "2022-12-23T18:18:40.155124Z",
     "iopub.status.idle": "2022-12-23T18:18:40.168328Z",
     "shell.execute_reply": "2022-12-23T18:18:40.167113Z"
    },
    "papermill": {
     "duration": 0.027312,
     "end_time": "2022-12-23T18:18:40.171348",
     "exception": false,
     "start_time": "2022-12-23T18:18:40.144036",
     "status": "completed"
    },
    "tags": []
   },
   "outputs": [],
   "source": [
    "submit.to_csv(\"submission.csv\", index = False)"
   ]
  },
  {
   "cell_type": "code",
   "execution_count": null,
   "id": "a445db8b",
   "metadata": {
    "papermill": {
     "duration": 0.0086,
     "end_time": "2022-12-23T18:18:40.189140",
     "exception": false,
     "start_time": "2022-12-23T18:18:40.180540",
     "status": "completed"
    },
    "tags": []
   },
   "outputs": [],
   "source": []
  }
 ],
 "metadata": {
  "kernelspec": {
   "display_name": "Python 3",
   "language": "python",
   "name": "python3"
  },
  "language_info": {
   "codemirror_mode": {
    "name": "ipython",
    "version": 3
   },
   "file_extension": ".py",
   "mimetype": "text/x-python",
   "name": "python",
   "nbconvert_exporter": "python",
   "pygments_lexer": "ipython3",
   "version": "3.7.12"
  },
  "papermill": {
   "default_parameters": {},
   "duration": 30.248614,
   "end_time": "2022-12-23T18:18:43.539836",
   "environment_variables": {},
   "exception": null,
   "input_path": "__notebook__.ipynb",
   "output_path": "__notebook__.ipynb",
   "parameters": {},
   "start_time": "2022-12-23T18:18:13.291222",
   "version": "2.3.4"
  }
 },
 "nbformat": 4,
 "nbformat_minor": 5
}
